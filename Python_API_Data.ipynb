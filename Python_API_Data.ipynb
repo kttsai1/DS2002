{
 "cells": [
  {
   "cell_type": "code",
   "execution_count": 59,
   "metadata": {},
   "outputs": [
    {
     "name": "stdout",
     "output_type": "stream",
     "text": [
      "Requirement already satisfied: requests in c:\\users\\katie\\appdata\\roaming\\python\\python39\\site-packages (2.31.0)Note: you may need to restart the kernel to use updated packages.\n",
      "\n",
      "Requirement already satisfied: charset-normalizer<4,>=2 in c:\\users\\katie\\anaconda3\\lib\\site-packages (from requests) (2.0.4)\n",
      "Requirement already satisfied: idna<4,>=2.5 in c:\\users\\katie\\anaconda3\\lib\\site-packages (from requests) (3.3)\n",
      "Requirement already satisfied: urllib3<3,>=1.21.1 in c:\\users\\katie\\anaconda3\\lib\\site-packages (from requests) (1.26.11)\n",
      "Requirement already satisfied: certifi>=2017.4.17 in c:\\users\\katie\\anaconda3\\lib\\site-packages (from requests) (2022.9.14)\n"
     ]
    }
   ],
   "source": [
    "pip install requests"
   ]
  },
  {
   "cell_type": "code",
   "execution_count": 60,
   "metadata": {},
   "outputs": [],
   "source": [
    "import os\n",
    "import json\n",
    "import pprint\n",
    "import requests\n",
    "import requests.exceptions\n",
    "import pandas as pd"
   ]
  },
  {
   "cell_type": "code",
   "execution_count": 61,
   "metadata": {},
   "outputs": [],
   "source": [
    "def get_api_response(url, headers, params):\n",
    "    try:\n",
    "        response = requests.request(\"GET\", url, headers=headers, params=params)\n",
    "        response.raise_for_status()\n",
    "    \n",
    "    except requests.exceptions.HTTPError as errh:\n",
    "        return \"An Http Error occurred: \" + repr(errh)\n",
    "    except requests.exceptions.ConnectionError as errc:\n",
    "        return \"An Error Connecting to the API occurred: \" + repr(errc)\n",
    "    except requests.exceptions.Timeout as errt:\n",
    "        return \"A Timeout Error occurred: \" + repr(errt)\n",
    "    except requests.exceptions.InvalidHeader as erri:\n",
    "        return \"A Header Error occurred: \" + repr(erri)\n",
    "    except requests.exceptions.RequestException as err:\n",
    "        return \"An Unknown Error occurred: \" + repr(err)\n",
    "        \n",
    "    return response.json()\n"
   ]
  },
  {
   "cell_type": "code",
   "execution_count": 62,
   "metadata": {},
   "outputs": [
    {
     "name": "stdout",
     "output_type": "stream",
     "text": [
      "The Stock we will research is: AAPL\n"
     ]
    }
   ],
   "source": [
    "stock=input()\n",
    "print(\"The Stock we will research is: \" + stock)\n",
    "apikey=\"fnu7m7Uigl2tqyCspHnLs4dAPIgph52M7zbHjUlL\"\n",
    "\n",
    "url = \"https://yfapi.net/v6/finance/quote\"\n",
    "url2 = \"https://yfapi.net/v11/finance/quoteSummary/AAPL?lang=en&region=US&modules=financialData%2CbalanceSheetHistory\"\n",
    "querystring = {\"symbols\":stock}\n",
    "\n",
    "headers = {\n",
    "    'x-api-key': apikey\n",
    "    }\n",
    "\n",
    "response = get_api_response(url, headers, querystring)\n",
    "response2 = get_api_response(url2, headers, querystring)\n"
   ]
  },
  {
   "cell_type": "code",
   "execution_count": 63,
   "metadata": {},
   "outputs": [
    {
     "name": "stdout",
     "output_type": "stream",
     "text": [
      "AAPL\n",
      "Apple Inc.\n",
      "Price: $170.43\n",
      "Target Mean Price: $188.43\n",
      "Cash on Hand from Last Balance Sheet: 23.65B\n",
      "Gross Profits: 170.78B\n"
     ]
    }
   ],
   "source": [
    "# Ticker, Full Name of the Stock, Current Price, Target Mean Price, Cash on Hand from the last balance sheet, Gross Profits\n",
    "\n",
    "stock_json = response\n",
    "stock_json2 = response2\n",
    "try:\n",
    "  long_name = stock_json['quoteResponse']['result'][0][\"longName\"]\n",
    "  regular_market_price = stock_json['quoteResponse']['result'][0][\"regularMarketPrice\"]\n",
    "  target_mean_price = stock_json2[\"quoteSummary\"][\"result\"][0][\"financialData\"][\"targetMeanPrice\"][\"fmt\"]\n",
    "  cash_on_hand = stock_json2['quoteSummary']['result'][0][\"balanceSheetHistory\"][\"balanceSheetStatements\"][0][\"cash\"][\"fmt\"]\n",
    "  gross_profits = stock_json2[\"quoteSummary\"][\"result\"][0][\"financialData\"][\"grossProfits\"][\"fmt\"]\n",
    "\n",
    "  print(stock + \"\\n\" + long_name + \"\\n\" + \"Price: $\" + str(regular_market_price) + \"\\n\" + \"Target Mean Price: $\" + str(target_mean_price) + \"\\n\"\n",
    "        + \"Cash on Hand from Last Balance Sheet: \" + str(cash_on_hand) + \"\\n\" + \"Gross Profits: \" + str(gross_profits))\n",
    "  \n",
    "except KeyError:\n",
    "  print(\"Error Occured\")\n",
    "except IndexError:\n",
    "  print(\"Error occured\")\n",
    "except Exception:\n",
    "  print(\"Error occured\")\n"
   ]
  },
  {
   "cell_type": "code",
   "execution_count": 64,
   "metadata": {},
   "outputs": [],
   "source": [
    "data = {\n",
    "    \"Stock\": [stock],\n",
    "    \"Name\": [long_name],\n",
    "    \"Price\": [regular_market_price],\n",
    "    \"Target Mean Price\": [target_mean_price],\n",
    "    \"Cash on Hand from Last Balance Sheet\": [cash_on_hand],\n",
    "    \"Gross Profits\": [gross_profits]\n",
    "}\n",
    "\n",
    "df = pd.DataFrame(data)\n",
    "\n",
    "json = 'stock_data.json'\n",
    "df.to_json(json, orient='records')\n",
    "\n",
    "csv = 'stock_data.csv'\n",
    "df.to_csv(csv, index=False)"
   ]
  }
 ],
 "metadata": {
  "kernelspec": {
   "display_name": "base",
   "language": "python",
   "name": "python3"
  },
  "language_info": {
   "codemirror_mode": {
    "name": "ipython",
    "version": 3
   },
   "file_extension": ".py",
   "mimetype": "text/x-python",
   "name": "python",
   "nbconvert_exporter": "python",
   "pygments_lexer": "ipython3",
   "version": "3.9.13"
  },
  "orig_nbformat": 4
 },
 "nbformat": 4,
 "nbformat_minor": 2
}
